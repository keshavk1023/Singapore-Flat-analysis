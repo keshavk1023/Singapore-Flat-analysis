{
 "cells": [
  {
   "cell_type": "markdown",
   "metadata": {},
   "source": [
    " # Resale Flat Prices"
   ]
  },
  {
   "cell_type": "code",
   "execution_count": 1,
   "metadata": {},
   "outputs": [],
   "source": [
    "# Packages\n",
    "\n",
    "import pandas as pd\n",
    "import numpy as np\n",
    "import warnings\n",
    "warnings.filterwarnings(\"ignore\")\n",
    "from datetime import datetime\n",
    "import plotly as px\n",
    "import seaborn as sns\n",
    "import matplotlib.pyplot as plt"
   ]
  },
  {
   "cell_type": "code",
   "execution_count": 2,
   "metadata": {},
   "outputs": [],
   "source": [
    "#Encoding packages\n",
    "\n",
    "from sklearn.preprocessing import LabelEncoder,OrdinalEncoder"
   ]
  },
  {
   "cell_type": "code",
   "execution_count": 29,
   "metadata": {},
   "outputs": [],
   "source": [
    "import os\n",
    "os.chdir(\"C:\\\\Users\\\\keshavk\\\\code\\\\flat\")"
   ]
  },
  {
   "cell_type": "markdown",
   "metadata": {},
   "source": [
    " # Reading the \"csv\" files (Registration)"
   ]
  },
  {
   "cell_type": "code",
   "execution_count": 3,
   "metadata": {},
   "outputs": [
    {
     "data": {
      "text/html": [
       "<div>\n",
       "<style scoped>\n",
       "    .dataframe tbody tr th:only-of-type {\n",
       "        vertical-align: middle;\n",
       "    }\n",
       "\n",
       "    .dataframe tbody tr th {\n",
       "        vertical-align: top;\n",
       "    }\n",
       "\n",
       "    .dataframe thead th {\n",
       "        text-align: right;\n",
       "    }\n",
       "</style>\n",
       "<table border=\"1\" class=\"dataframe\">\n",
       "  <thead>\n",
       "    <tr style=\"text-align: right;\">\n",
       "      <th></th>\n",
       "      <th>month</th>\n",
       "      <th>town</th>\n",
       "      <th>flat_type</th>\n",
       "      <th>block</th>\n",
       "      <th>street_name</th>\n",
       "      <th>storey_range</th>\n",
       "      <th>floor_area_sqm</th>\n",
       "      <th>flat_model</th>\n",
       "      <th>lease_commence_date</th>\n",
       "      <th>resale_price</th>\n",
       "    </tr>\n",
       "  </thead>\n",
       "  <tbody>\n",
       "    <tr>\n",
       "      <th>0</th>\n",
       "      <td>2012-03</td>\n",
       "      <td>ANG MO KIO</td>\n",
       "      <td>2 ROOM</td>\n",
       "      <td>172</td>\n",
       "      <td>ANG MO KIO AVE 4</td>\n",
       "      <td>06 TO 10</td>\n",
       "      <td>45.0</td>\n",
       "      <td>Improved</td>\n",
       "      <td>1986</td>\n",
       "      <td>250000.0</td>\n",
       "    </tr>\n",
       "    <tr>\n",
       "      <th>1</th>\n",
       "      <td>2012-03</td>\n",
       "      <td>ANG MO KIO</td>\n",
       "      <td>2 ROOM</td>\n",
       "      <td>510</td>\n",
       "      <td>ANG MO KIO AVE 8</td>\n",
       "      <td>01 TO 05</td>\n",
       "      <td>44.0</td>\n",
       "      <td>Improved</td>\n",
       "      <td>1980</td>\n",
       "      <td>265000.0</td>\n",
       "    </tr>\n",
       "  </tbody>\n",
       "</table>\n",
       "</div>"
      ],
      "text/plain": [
       "     month        town flat_type block       street_name storey_range  \\\n",
       "0  2012-03  ANG MO KIO    2 ROOM   172  ANG MO KIO AVE 4     06 TO 10   \n",
       "1  2012-03  ANG MO KIO    2 ROOM   510  ANG MO KIO AVE 8     01 TO 05   \n",
       "\n",
       "   floor_area_sqm flat_model  lease_commence_date  resale_price  \n",
       "0            45.0   Improved                 1986      250000.0  \n",
       "1            44.0   Improved                 1980      265000.0  "
      ]
     },
     "execution_count": 3,
     "metadata": {},
     "output_type": "execute_result"
    }
   ],
   "source": [
    "# reading the 2012 to 2014\n",
    "df_1 = pd.read_csv(r\"C:\\\\Users\\\\keshavk\\\\code\\\\singapore flats\\\\ResaleFlatPricesBasedonRegistrationDateFromMar2012toDec2014.csv\")\n",
    "df_1.head(2)"
   ]
  },
  {
   "cell_type": "code",
   "execution_count": 4,
   "metadata": {},
   "outputs": [
    {
     "data": {
      "text/html": [
       "<div>\n",
       "<style scoped>\n",
       "    .dataframe tbody tr th:only-of-type {\n",
       "        vertical-align: middle;\n",
       "    }\n",
       "\n",
       "    .dataframe tbody tr th {\n",
       "        vertical-align: top;\n",
       "    }\n",
       "\n",
       "    .dataframe thead th {\n",
       "        text-align: right;\n",
       "    }\n",
       "</style>\n",
       "<table border=\"1\" class=\"dataframe\">\n",
       "  <thead>\n",
       "    <tr style=\"text-align: right;\">\n",
       "      <th></th>\n",
       "      <th>month</th>\n",
       "      <th>town</th>\n",
       "      <th>flat_type</th>\n",
       "      <th>block</th>\n",
       "      <th>street_name</th>\n",
       "      <th>storey_range</th>\n",
       "      <th>floor_area_sqm</th>\n",
       "      <th>flat_model</th>\n",
       "      <th>lease_commence_date</th>\n",
       "      <th>remaining_lease</th>\n",
       "      <th>resale_price</th>\n",
       "    </tr>\n",
       "  </thead>\n",
       "  <tbody>\n",
       "    <tr>\n",
       "      <th>37151</th>\n",
       "      <td>2016-12</td>\n",
       "      <td>YISHUN</td>\n",
       "      <td>EXECUTIVE</td>\n",
       "      <td>325</td>\n",
       "      <td>YISHUN CTRL</td>\n",
       "      <td>01 TO 03</td>\n",
       "      <td>146.0</td>\n",
       "      <td>Maisonette</td>\n",
       "      <td>1988</td>\n",
       "      <td>70</td>\n",
       "      <td>575000.0</td>\n",
       "    </tr>\n",
       "    <tr>\n",
       "      <th>37152</th>\n",
       "      <td>2016-12</td>\n",
       "      <td>YISHUN</td>\n",
       "      <td>MULTI-GENERATION</td>\n",
       "      <td>666</td>\n",
       "      <td>YISHUN AVE 4</td>\n",
       "      <td>10 TO 12</td>\n",
       "      <td>164.0</td>\n",
       "      <td>Multi Generation</td>\n",
       "      <td>1987</td>\n",
       "      <td>70</td>\n",
       "      <td>735000.0</td>\n",
       "    </tr>\n",
       "  </tbody>\n",
       "</table>\n",
       "</div>"
      ],
      "text/plain": [
       "         month    town         flat_type block   street_name storey_range  \\\n",
       "37151  2016-12  YISHUN         EXECUTIVE   325   YISHUN CTRL     01 TO 03   \n",
       "37152  2016-12  YISHUN  MULTI-GENERATION   666  YISHUN AVE 4     10 TO 12   \n",
       "\n",
       "       floor_area_sqm        flat_model  lease_commence_date  remaining_lease  \\\n",
       "37151           146.0        Maisonette                 1988               70   \n",
       "37152           164.0  Multi Generation                 1987               70   \n",
       "\n",
       "       resale_price  \n",
       "37151      575000.0  \n",
       "37152      735000.0  "
      ]
     },
     "execution_count": 4,
     "metadata": {},
     "output_type": "execute_result"
    }
   ],
   "source": [
    "# reading the 2015 to 2016\n",
    "df_2= pd.read_csv(r\"C:\\\\Users\\\\keshavk\\\\code\\\\singapore flats\\\\ResaleFlatPricesBasedonRegistrationDateFromJan2015toDec2016.csv\")\n",
    "df_2.tail(2)"
   ]
  },
  {
   "cell_type": "code",
   "execution_count": 6,
   "metadata": {},
   "outputs": [
    {
     "data": {
      "text/html": [
       "<div>\n",
       "<style scoped>\n",
       "    .dataframe tbody tr th:only-of-type {\n",
       "        vertical-align: middle;\n",
       "    }\n",
       "\n",
       "    .dataframe tbody tr th {\n",
       "        vertical-align: top;\n",
       "    }\n",
       "\n",
       "    .dataframe thead th {\n",
       "        text-align: right;\n",
       "    }\n",
       "</style>\n",
       "<table border=\"1\" class=\"dataframe\">\n",
       "  <thead>\n",
       "    <tr style=\"text-align: right;\">\n",
       "      <th></th>\n",
       "      <th>month</th>\n",
       "      <th>town</th>\n",
       "      <th>flat_type</th>\n",
       "      <th>block</th>\n",
       "      <th>street_name</th>\n",
       "      <th>storey_range</th>\n",
       "      <th>floor_area_sqm</th>\n",
       "      <th>flat_model</th>\n",
       "      <th>lease_commence_date</th>\n",
       "      <th>remaining_lease</th>\n",
       "      <th>resale_price</th>\n",
       "    </tr>\n",
       "  </thead>\n",
       "  <tbody>\n",
       "    <tr>\n",
       "      <th>0</th>\n",
       "      <td>2017-01</td>\n",
       "      <td>ANG MO KIO</td>\n",
       "      <td>2 ROOM</td>\n",
       "      <td>406</td>\n",
       "      <td>ANG MO KIO AVE 10</td>\n",
       "      <td>10 TO 12</td>\n",
       "      <td>44.0</td>\n",
       "      <td>Improved</td>\n",
       "      <td>1979</td>\n",
       "      <td>61 years 04 months</td>\n",
       "      <td>232000.0</td>\n",
       "    </tr>\n",
       "    <tr>\n",
       "      <th>1</th>\n",
       "      <td>2017-01</td>\n",
       "      <td>ANG MO KIO</td>\n",
       "      <td>3 ROOM</td>\n",
       "      <td>108</td>\n",
       "      <td>ANG MO KIO AVE 4</td>\n",
       "      <td>01 TO 03</td>\n",
       "      <td>67.0</td>\n",
       "      <td>New Generation</td>\n",
       "      <td>1978</td>\n",
       "      <td>60 years 07 months</td>\n",
       "      <td>250000.0</td>\n",
       "    </tr>\n",
       "  </tbody>\n",
       "</table>\n",
       "</div>"
      ],
      "text/plain": [
       "     month        town flat_type block        street_name storey_range  \\\n",
       "0  2017-01  ANG MO KIO    2 ROOM   406  ANG MO KIO AVE 10     10 TO 12   \n",
       "1  2017-01  ANG MO KIO    3 ROOM   108   ANG MO KIO AVE 4     01 TO 03   \n",
       "\n",
       "   floor_area_sqm      flat_model  lease_commence_date     remaining_lease  \\\n",
       "0            44.0        Improved                 1979  61 years 04 months   \n",
       "1            67.0  New Generation                 1978  60 years 07 months   \n",
       "\n",
       "   resale_price  \n",
       "0      232000.0  \n",
       "1      250000.0  "
      ]
     },
     "execution_count": 6,
     "metadata": {},
     "output_type": "execute_result"
    }
   ],
   "source": [
    "# reading the 2017 to onwards\n",
    "df_3=pd.read_csv(r\"C:\\\\Users\\\\keshavk\\\\code\\\\singapore flats\\\\ResaleflatpricesbasedonregistrationdatefromJan2017onwards.csv\")\n",
    "df_3.head(2)"
   ]
  },
  {
   "cell_type": "markdown",
   "metadata": {},
   "source": [
    " # Preprocessing"
   ]
  },
  {
   "cell_type": "code",
   "execution_count": 7,
   "metadata": {},
   "outputs": [
    {
     "data": {
      "text/html": [
       "<div>\n",
       "<style scoped>\n",
       "    .dataframe tbody tr th:only-of-type {\n",
       "        vertical-align: middle;\n",
       "    }\n",
       "\n",
       "    .dataframe tbody tr th {\n",
       "        vertical-align: top;\n",
       "    }\n",
       "\n",
       "    .dataframe thead th {\n",
       "        text-align: right;\n",
       "    }\n",
       "</style>\n",
       "<table border=\"1\" class=\"dataframe\">\n",
       "  <thead>\n",
       "    <tr style=\"text-align: right;\">\n",
       "      <th></th>\n",
       "      <th>month</th>\n",
       "      <th>town</th>\n",
       "      <th>flat_type</th>\n",
       "      <th>block</th>\n",
       "      <th>street_name</th>\n",
       "      <th>storey_range</th>\n",
       "      <th>floor_area_sqm</th>\n",
       "      <th>flat_model</th>\n",
       "      <th>lease_commence_date</th>\n",
       "      <th>remaining_lease</th>\n",
       "      <th>resale_price</th>\n",
       "    </tr>\n",
       "  </thead>\n",
       "  <tbody>\n",
       "    <tr>\n",
       "      <th>216956</th>\n",
       "      <td>2024-02</td>\n",
       "      <td>YISHUN</td>\n",
       "      <td>MULTI-GENERATION</td>\n",
       "      <td>666</td>\n",
       "      <td>YISHUN AVE 4</td>\n",
       "      <td>04 TO 06</td>\n",
       "      <td>164.0</td>\n",
       "      <td>Multi Generation</td>\n",
       "      <td>1987</td>\n",
       "      <td>62 years 11 months</td>\n",
       "      <td>998000.0</td>\n",
       "    </tr>\n",
       "    <tr>\n",
       "      <th>216957</th>\n",
       "      <td>2024-03</td>\n",
       "      <td>YISHUN</td>\n",
       "      <td>MULTI-GENERATION</td>\n",
       "      <td>666</td>\n",
       "      <td>YISHUN AVE 4</td>\n",
       "      <td>10 TO 12</td>\n",
       "      <td>164.0</td>\n",
       "      <td>Multi Generation</td>\n",
       "      <td>1987</td>\n",
       "      <td>62 years 09 months</td>\n",
       "      <td>1200000.0</td>\n",
       "    </tr>\n",
       "  </tbody>\n",
       "</table>\n",
       "</div>"
      ],
      "text/plain": [
       "          month    town         flat_type block   street_name storey_range  \\\n",
       "216956  2024-02  YISHUN  MULTI-GENERATION   666  YISHUN AVE 4     04 TO 06   \n",
       "216957  2024-03  YISHUN  MULTI-GENERATION   666  YISHUN AVE 4     10 TO 12   \n",
       "\n",
       "        floor_area_sqm        flat_model  lease_commence_date  \\\n",
       "216956           164.0  Multi Generation                 1987   \n",
       "216957           164.0  Multi Generation                 1987   \n",
       "\n",
       "           remaining_lease  resale_price  \n",
       "216956  62 years 11 months      998000.0  \n",
       "216957  62 years 09 months     1200000.0  "
      ]
     },
     "execution_count": 7,
     "metadata": {},
     "output_type": "execute_result"
    }
   ],
   "source": [
    "#df_1 does not have a \"remaining_lease\" column so, I choose the df_2 and df_3 only\n",
    "\n",
    "#concatenate the df_2 and df_3\n",
    "\n",
    "df_4= pd.concat([df_2,df_3],axis= 0)\n",
    "df_4.reset_index(drop= True, inplace= True)\n",
    "df_4.tail(2)"
   ]
  },
  {
   "cell_type": "code",
   "execution_count": 8,
   "metadata": {},
   "outputs": [
    {
     "name": "stdout",
     "output_type": "stream",
     "text": [
      "<class 'pandas.core.frame.DataFrame'>\n",
      "RangeIndex: 216958 entries, 0 to 216957\n",
      "Data columns (total 11 columns):\n",
      " #   Column               Non-Null Count   Dtype  \n",
      "---  ------               --------------   -----  \n",
      " 0   month                216958 non-null  object \n",
      " 1   town                 216958 non-null  object \n",
      " 2   flat_type            216958 non-null  object \n",
      " 3   block                216958 non-null  object \n",
      " 4   street_name          216958 non-null  object \n",
      " 5   storey_range         216958 non-null  object \n",
      " 6   floor_area_sqm       216958 non-null  float64\n",
      " 7   flat_model           216958 non-null  object \n",
      " 8   lease_commence_date  216958 non-null  int64  \n",
      " 9   remaining_lease      216958 non-null  object \n",
      " 10  resale_price         216958 non-null  float64\n",
      "dtypes: float64(2), int64(1), object(8)\n",
      "memory usage: 18.2+ MB\n"
     ]
    }
   ],
   "source": [
    "df_4.info()"
   ]
  },
  {
   "cell_type": "code",
   "execution_count": 9,
   "metadata": {},
   "outputs": [
    {
     "data": {
      "text/plain": [
       "month                  0\n",
       "town                   0\n",
       "flat_type              0\n",
       "block                  0\n",
       "street_name            0\n",
       "storey_range           0\n",
       "floor_area_sqm         0\n",
       "flat_model             0\n",
       "lease_commence_date    0\n",
       "remaining_lease        0\n",
       "resale_price           0\n",
       "dtype: int64"
      ]
     },
     "execution_count": 9,
     "metadata": {},
     "output_type": "execute_result"
    }
   ],
   "source": [
    "df_4.isnull().sum()"
   ]
  },
  {
   "cell_type": "markdown",
   "metadata": {},
   "source": [
    "# This Dataset have not any null values\n",
    "\n",
    "# Encoding the catogarical columns and chaning the datatype\n",
    "    "
   ]
  },
  {
   "cell_type": "markdown",
   "metadata": {},
   "source": [
    "df_4.head(4)"
   ]
  },
  {
   "cell_type": "code",
   "execution_count": 10,
   "metadata": {},
   "outputs": [
    {
     "data": {
      "text/html": [
       "<div>\n",
       "<style scoped>\n",
       "    .dataframe tbody tr th:only-of-type {\n",
       "        vertical-align: middle;\n",
       "    }\n",
       "\n",
       "    .dataframe tbody tr th {\n",
       "        vertical-align: top;\n",
       "    }\n",
       "\n",
       "    .dataframe thead th {\n",
       "        text-align: right;\n",
       "    }\n",
       "</style>\n",
       "<table border=\"1\" class=\"dataframe\">\n",
       "  <thead>\n",
       "    <tr style=\"text-align: right;\">\n",
       "      <th></th>\n",
       "      <th>month</th>\n",
       "      <th>town</th>\n",
       "      <th>flat_type</th>\n",
       "      <th>block</th>\n",
       "      <th>street_name</th>\n",
       "      <th>storey_range</th>\n",
       "      <th>floor_area_sqm</th>\n",
       "      <th>flat_model</th>\n",
       "      <th>lease_commence_date</th>\n",
       "      <th>remaining_lease</th>\n",
       "      <th>resale_price</th>\n",
       "    </tr>\n",
       "  </thead>\n",
       "  <tbody>\n",
       "    <tr>\n",
       "      <th>0</th>\n",
       "      <td>2015-01</td>\n",
       "      <td>ANG MO KIO</td>\n",
       "      <td>3 ROOM</td>\n",
       "      <td>174</td>\n",
       "      <td>ANG MO KIO AVE 4</td>\n",
       "      <td>07 TO 09</td>\n",
       "      <td>60.0</td>\n",
       "      <td>Improved</td>\n",
       "      <td>1986</td>\n",
       "      <td>70</td>\n",
       "      <td>255000.0</td>\n",
       "    </tr>\n",
       "    <tr>\n",
       "      <th>1</th>\n",
       "      <td>2015-01</td>\n",
       "      <td>ANG MO KIO</td>\n",
       "      <td>3 ROOM</td>\n",
       "      <td>541</td>\n",
       "      <td>ANG MO KIO AVE 10</td>\n",
       "      <td>01 TO 03</td>\n",
       "      <td>68.0</td>\n",
       "      <td>New Generation</td>\n",
       "      <td>1981</td>\n",
       "      <td>65</td>\n",
       "      <td>275000.0</td>\n",
       "    </tr>\n",
       "  </tbody>\n",
       "</table>\n",
       "</div>"
      ],
      "text/plain": [
       "     month        town flat_type block        street_name storey_range  \\\n",
       "0  2015-01  ANG MO KIO    3 ROOM   174   ANG MO KIO AVE 4     07 TO 09   \n",
       "1  2015-01  ANG MO KIO    3 ROOM   541  ANG MO KIO AVE 10     01 TO 03   \n",
       "\n",
       "   floor_area_sqm      flat_model  lease_commence_date remaining_lease  \\\n",
       "0            60.0        Improved                 1986              70   \n",
       "1            68.0  New Generation                 1981              65   \n",
       "\n",
       "   resale_price  \n",
       "0      255000.0  \n",
       "1      275000.0  "
      ]
     },
     "execution_count": 10,
     "metadata": {},
     "output_type": "execute_result"
    }
   ],
   "source": [
    "df_4.head(2)"
   ]
  },
  {
   "cell_type": "code",
   "execution_count": 11,
   "metadata": {},
   "outputs": [],
   "source": [
    "# Creating a new column \"address\"\n",
    "df_4[\"address\"]= df_4[\"block\"]+\" \"+df_4[\"street_name\"]"
   ]
  },
  {
   "cell_type": "code",
   "execution_count": 12,
   "metadata": {},
   "outputs": [],
   "source": [
    "#droping the \"street_name\" and \"block\"\n",
    "df_5= df_4.drop(columns=[\"block\",\"street_name\"])"
   ]
  },
  {
   "cell_type": "code",
   "execution_count": 13,
   "metadata": {},
   "outputs": [
    {
     "data": {
      "text/html": [
       "<div>\n",
       "<style scoped>\n",
       "    .dataframe tbody tr th:only-of-type {\n",
       "        vertical-align: middle;\n",
       "    }\n",
       "\n",
       "    .dataframe tbody tr th {\n",
       "        vertical-align: top;\n",
       "    }\n",
       "\n",
       "    .dataframe thead th {\n",
       "        text-align: right;\n",
       "    }\n",
       "</style>\n",
       "<table border=\"1\" class=\"dataframe\">\n",
       "  <thead>\n",
       "    <tr style=\"text-align: right;\">\n",
       "      <th></th>\n",
       "      <th>month</th>\n",
       "      <th>town</th>\n",
       "      <th>flat_type</th>\n",
       "      <th>storey_range</th>\n",
       "      <th>floor_area_sqm</th>\n",
       "      <th>flat_model</th>\n",
       "      <th>lease_commence_date</th>\n",
       "      <th>remaining_lease</th>\n",
       "      <th>resale_price</th>\n",
       "      <th>address</th>\n",
       "    </tr>\n",
       "  </thead>\n",
       "  <tbody>\n",
       "    <tr>\n",
       "      <th>0</th>\n",
       "      <td>2015-01</td>\n",
       "      <td>ANG MO KIO</td>\n",
       "      <td>3 ROOM</td>\n",
       "      <td>07 TO 09</td>\n",
       "      <td>60.0</td>\n",
       "      <td>Improved</td>\n",
       "      <td>1986</td>\n",
       "      <td>70</td>\n",
       "      <td>255000.0</td>\n",
       "      <td>174 ANG MO KIO AVE 4</td>\n",
       "    </tr>\n",
       "    <tr>\n",
       "      <th>1</th>\n",
       "      <td>2015-01</td>\n",
       "      <td>ANG MO KIO</td>\n",
       "      <td>3 ROOM</td>\n",
       "      <td>01 TO 03</td>\n",
       "      <td>68.0</td>\n",
       "      <td>New Generation</td>\n",
       "      <td>1981</td>\n",
       "      <td>65</td>\n",
       "      <td>275000.0</td>\n",
       "      <td>541 ANG MO KIO AVE 10</td>\n",
       "    </tr>\n",
       "  </tbody>\n",
       "</table>\n",
       "</div>"
      ],
      "text/plain": [
       "     month        town flat_type storey_range  floor_area_sqm      flat_model  \\\n",
       "0  2015-01  ANG MO KIO    3 ROOM     07 TO 09            60.0        Improved   \n",
       "1  2015-01  ANG MO KIO    3 ROOM     01 TO 03            68.0  New Generation   \n",
       "\n",
       "   lease_commence_date remaining_lease  resale_price                address  \n",
       "0                 1986              70      255000.0   174 ANG MO KIO AVE 4  \n",
       "1                 1981              65      275000.0  541 ANG MO KIO AVE 10  "
      ]
     },
     "execution_count": 13,
     "metadata": {},
     "output_type": "execute_result"
    }
   ],
   "source": [
    "df_5.head(2)"
   ]
  },
  {
   "cell_type": "code",
   "execution_count": 14,
   "metadata": {},
   "outputs": [],
   "source": [
    "# for month\n",
    "df_5[\"month\"] = pd.to_datetime(df_5[\"month\"], format=\"%Y-%m\")"
   ]
  },
  {
   "cell_type": "code",
   "execution_count": 15,
   "metadata": {},
   "outputs": [],
   "source": [
    "#spliting the month column to \"Year\", \"month\", \"day\"\n",
    "df_5[\"year\"]= df_5[\"month\"].dt.year\n",
    "df_5[\"month\"]= df_5[\"month\"].dt.month"
   ]
  },
  {
   "cell_type": "code",
   "execution_count": 16,
   "metadata": {},
   "outputs": [
    {
     "data": {
      "text/html": [
       "<div>\n",
       "<style scoped>\n",
       "    .dataframe tbody tr th:only-of-type {\n",
       "        vertical-align: middle;\n",
       "    }\n",
       "\n",
       "    .dataframe tbody tr th {\n",
       "        vertical-align: top;\n",
       "    }\n",
       "\n",
       "    .dataframe thead th {\n",
       "        text-align: right;\n",
       "    }\n",
       "</style>\n",
       "<table border=\"1\" class=\"dataframe\">\n",
       "  <thead>\n",
       "    <tr style=\"text-align: right;\">\n",
       "      <th></th>\n",
       "      <th>month</th>\n",
       "      <th>town</th>\n",
       "      <th>flat_type</th>\n",
       "      <th>storey_range</th>\n",
       "      <th>floor_area_sqm</th>\n",
       "      <th>flat_model</th>\n",
       "      <th>lease_commence_date</th>\n",
       "      <th>remaining_lease</th>\n",
       "      <th>resale_price</th>\n",
       "      <th>address</th>\n",
       "      <th>year</th>\n",
       "    </tr>\n",
       "  </thead>\n",
       "  <tbody>\n",
       "    <tr>\n",
       "      <th>0</th>\n",
       "      <td>1</td>\n",
       "      <td>ANG MO KIO</td>\n",
       "      <td>3 ROOM</td>\n",
       "      <td>07 TO 09</td>\n",
       "      <td>60.0</td>\n",
       "      <td>Improved</td>\n",
       "      <td>1986</td>\n",
       "      <td>70</td>\n",
       "      <td>255000.0</td>\n",
       "      <td>174 ANG MO KIO AVE 4</td>\n",
       "      <td>2015</td>\n",
       "    </tr>\n",
       "    <tr>\n",
       "      <th>1</th>\n",
       "      <td>1</td>\n",
       "      <td>ANG MO KIO</td>\n",
       "      <td>3 ROOM</td>\n",
       "      <td>01 TO 03</td>\n",
       "      <td>68.0</td>\n",
       "      <td>New Generation</td>\n",
       "      <td>1981</td>\n",
       "      <td>65</td>\n",
       "      <td>275000.0</td>\n",
       "      <td>541 ANG MO KIO AVE 10</td>\n",
       "      <td>2015</td>\n",
       "    </tr>\n",
       "  </tbody>\n",
       "</table>\n",
       "</div>"
      ],
      "text/plain": [
       "   month        town flat_type storey_range  floor_area_sqm      flat_model  \\\n",
       "0      1  ANG MO KIO    3 ROOM     07 TO 09            60.0        Improved   \n",
       "1      1  ANG MO KIO    3 ROOM     01 TO 03            68.0  New Generation   \n",
       "\n",
       "   lease_commence_date remaining_lease  resale_price                address  \\\n",
       "0                 1986              70      255000.0   174 ANG MO KIO AVE 4   \n",
       "1                 1981              65      275000.0  541 ANG MO KIO AVE 10   \n",
       "\n",
       "   year  \n",
       "0  2015  \n",
       "1  2015  "
      ]
     },
     "execution_count": 16,
     "metadata": {},
     "output_type": "execute_result"
    }
   ],
   "source": [
    "df_5.head(2)"
   ]
  },
  {
   "cell_type": "code",
   "execution_count": 18,
   "metadata": {},
   "outputs": [
    {
     "data": {
      "text/plain": [
       "array(['ANG MO KIO', 'BEDOK', 'BISHAN', 'BUKIT BATOK', 'BUKIT MERAH',\n",
       "       'BUKIT PANJANG', 'BUKIT TIMAH', 'CENTRAL AREA', 'CHOA CHU KANG',\n",
       "       'CLEMENTI', 'GEYLANG', 'HOUGANG', 'JURONG EAST', 'JURONG WEST',\n",
       "       'KALLANG/WHAMPOA', 'MARINE PARADE', 'PASIR RIS', 'PUNGGOL',\n",
       "       'QUEENSTOWN', 'SEMBAWANG', 'SENGKANG', 'SERANGOON', 'TAMPINES',\n",
       "       'TOA PAYOH', 'WOODLANDS', 'YISHUN'], dtype=object)"
      ]
     },
     "execution_count": 18,
     "metadata": {},
     "output_type": "execute_result"
    }
   ],
   "source": [
    "df_5[\"town\"].unique()"
   ]
  },
  {
   "cell_type": "code",
   "execution_count": 19,
   "metadata": {},
   "outputs": [
    {
     "data": {
      "text/plain": [
       "26"
      ]
     },
     "execution_count": 19,
     "metadata": {},
     "output_type": "execute_result"
    }
   ],
   "source": [
    "df_5[\"town\"].nunique()"
   ]
  },
  {
   "cell_type": "code",
   "execution_count": 20,
   "metadata": {},
   "outputs": [
    {
     "data": {
      "text/plain": [
       "array(['3 ROOM', '4 ROOM', '5 ROOM', '2 ROOM', 'EXECUTIVE', '1 ROOM',\n",
       "       'MULTI-GENERATION'], dtype=object)"
      ]
     },
     "execution_count": 20,
     "metadata": {},
     "output_type": "execute_result"
    }
   ],
   "source": [
    "df_5[\"flat_type\"].unique()"
   ]
  },
  {
   "cell_type": "code",
   "execution_count": 21,
   "metadata": {},
   "outputs": [
    {
     "data": {
      "text/plain": [
       "7"
      ]
     },
     "execution_count": 21,
     "metadata": {},
     "output_type": "execute_result"
    }
   ],
   "source": [
    "df_5[\"flat_type\"].nunique()"
   ]
  },
  {
   "cell_type": "code",
   "execution_count": 22,
   "metadata": {},
   "outputs": [
    {
     "data": {
      "text/plain": [
       "array(['Improved', 'New Generation', 'Model A', 'Standard', 'Simplified',\n",
       "       'Premium Apartment', 'Maisonette', 'Apartment', 'Model A2',\n",
       "       'Type S1', 'Type S2', 'Adjoined flat', 'Terrace', 'DBSS',\n",
       "       'Model A-Maisonette', 'Premium Maisonette', 'Multi Generation',\n",
       "       'Premium Apartment Loft', 'Improved-Maisonette', '2-room', '3Gen'],\n",
       "      dtype=object)"
      ]
     },
     "execution_count": 22,
     "metadata": {},
     "output_type": "execute_result"
    }
   ],
   "source": [
    "df_5[\"flat_model\"].unique()"
   ]
  },
  {
   "cell_type": "code",
   "execution_count": 23,
   "metadata": {},
   "outputs": [
    {
     "data": {
      "text/plain": [
       "21"
      ]
     },
     "execution_count": 23,
     "metadata": {},
     "output_type": "execute_result"
    }
   ],
   "source": [
    "df_5[\"flat_model\"].nunique()"
   ]
  },
  {
   "cell_type": "code",
   "execution_count": 24,
   "metadata": {},
   "outputs": [],
   "source": [
    "# choosing the \"LabelEncoder\" for \"town\",and \"OrdinalEncoder\" for the \"flat_model\" and the \"flat_type\"\n",
    "df_5[\"town\"]= LabelEncoder().fit_transform(df_5[\"town\"])\n",
    "df_5[\"flat_model\"]= OrdinalEncoder().fit_transform(df_5[[\"flat_model\"]])\n",
    "df_5[\"flat_type\"]= OrdinalEncoder().fit_transform(df_5[[\"flat_type\"]])"
   ]
  },
  {
   "cell_type": "code",
   "execution_count": 25,
   "metadata": {},
   "outputs": [
    {
     "data": {
      "text/plain": [
       "array([ 0,  1,  2,  3,  4,  5,  6,  7,  8,  9, 10, 11, 12, 13, 14, 15, 16,\n",
       "       17, 18, 19, 20, 21, 22, 23, 24, 25])"
      ]
     },
     "execution_count": 25,
     "metadata": {},
     "output_type": "execute_result"
    }
   ],
   "source": [
    "df_5[\"town\"].unique()"
   ]
  },
  {
   "cell_type": "code",
   "execution_count": 26,
   "metadata": {},
   "outputs": [
    {
     "data": {
      "text/plain": [
       "array([2., 3., 4., 1., 5., 0., 6.])"
      ]
     },
     "execution_count": 26,
     "metadata": {},
     "output_type": "execute_result"
    }
   ],
   "source": [
    "df_5[\"flat_type\"].unique()"
   ]
  },
  {
   "cell_type": "code",
   "execution_count": 27,
   "metadata": {},
   "outputs": [
    {
     "data": {
      "text/plain": [
       "array([ 5., 12.,  8., 17., 16., 13.,  7.,  3., 10., 19., 20.,  2., 18.,\n",
       "        4.,  9., 15., 11., 14.,  6.,  0.,  1.])"
      ]
     },
     "execution_count": 27,
     "metadata": {},
     "output_type": "execute_result"
    }
   ],
   "source": [
    "df_5[\"flat_model\"].unique()"
   ]
  },
  {
   "cell_type": "code",
   "execution_count": 30,
   "metadata": {},
   "outputs": [
    {
     "data": {
      "text/html": [
       "<div>\n",
       "<style scoped>\n",
       "    .dataframe tbody tr th:only-of-type {\n",
       "        vertical-align: middle;\n",
       "    }\n",
       "\n",
       "    .dataframe tbody tr th {\n",
       "        vertical-align: top;\n",
       "    }\n",
       "\n",
       "    .dataframe thead th {\n",
       "        text-align: right;\n",
       "    }\n",
       "</style>\n",
       "<table border=\"1\" class=\"dataframe\">\n",
       "  <thead>\n",
       "    <tr style=\"text-align: right;\">\n",
       "      <th></th>\n",
       "      <th>month</th>\n",
       "      <th>town</th>\n",
       "      <th>flat_type</th>\n",
       "      <th>storey_range</th>\n",
       "      <th>floor_area_sqm</th>\n",
       "      <th>flat_model</th>\n",
       "      <th>lease_commence_date</th>\n",
       "      <th>remaining_lease</th>\n",
       "      <th>resale_price</th>\n",
       "      <th>address</th>\n",
       "      <th>year</th>\n",
       "    </tr>\n",
       "  </thead>\n",
       "  <tbody>\n",
       "    <tr>\n",
       "      <th>216956</th>\n",
       "      <td>2</td>\n",
       "      <td>25</td>\n",
       "      <td>6.0</td>\n",
       "      <td>04 TO 06</td>\n",
       "      <td>164.0</td>\n",
       "      <td>11.0</td>\n",
       "      <td>1987</td>\n",
       "      <td>62 years 11 months</td>\n",
       "      <td>998000.0</td>\n",
       "      <td>666 YISHUN AVE 4</td>\n",
       "      <td>2024</td>\n",
       "    </tr>\n",
       "    <tr>\n",
       "      <th>216957</th>\n",
       "      <td>3</td>\n",
       "      <td>25</td>\n",
       "      <td>6.0</td>\n",
       "      <td>10 TO 12</td>\n",
       "      <td>164.0</td>\n",
       "      <td>11.0</td>\n",
       "      <td>1987</td>\n",
       "      <td>62 years 09 months</td>\n",
       "      <td>1200000.0</td>\n",
       "      <td>666 YISHUN AVE 4</td>\n",
       "      <td>2024</td>\n",
       "    </tr>\n",
       "  </tbody>\n",
       "</table>\n",
       "</div>"
      ],
      "text/plain": [
       "        month  town  flat_type storey_range  floor_area_sqm  flat_model  \\\n",
       "216956      2    25        6.0     04 TO 06           164.0        11.0   \n",
       "216957      3    25        6.0     10 TO 12           164.0        11.0   \n",
       "\n",
       "        lease_commence_date     remaining_lease  resale_price  \\\n",
       "216956                 1987  62 years 11 months      998000.0   \n",
       "216957                 1987  62 years 09 months     1200000.0   \n",
       "\n",
       "                 address  year  \n",
       "216956  666 YISHUN AVE 4  2024  \n",
       "216957  666 YISHUN AVE 4  2024  "
      ]
     },
     "execution_count": 30,
     "metadata": {},
     "output_type": "execute_result"
    }
   ],
   "source": [
    "df_5.tail(2)"
   ]
  },
  {
   "cell_type": "code",
   "execution_count": 31,
   "metadata": {},
   "outputs": [],
   "source": [
    "df_5[[\"storey_start\", \"storey_end\"]]= df_4[\"storey_range\"].str.split(\" TO \",expand=True)"
   ]
  },
  {
   "cell_type": "code",
   "execution_count": 32,
   "metadata": {},
   "outputs": [],
   "source": [
    "#droping the \"storey_range\" column\n",
    "df_5.drop(columns=[\"storey_range\"],inplace= True)"
   ]
  },
  {
   "cell_type": "code",
   "execution_count": 33,
   "metadata": {},
   "outputs": [
    {
     "data": {
      "text/html": [
       "<div>\n",
       "<style scoped>\n",
       "    .dataframe tbody tr th:only-of-type {\n",
       "        vertical-align: middle;\n",
       "    }\n",
       "\n",
       "    .dataframe tbody tr th {\n",
       "        vertical-align: top;\n",
       "    }\n",
       "\n",
       "    .dataframe thead th {\n",
       "        text-align: right;\n",
       "    }\n",
       "</style>\n",
       "<table border=\"1\" class=\"dataframe\">\n",
       "  <thead>\n",
       "    <tr style=\"text-align: right;\">\n",
       "      <th></th>\n",
       "      <th>month</th>\n",
       "      <th>town</th>\n",
       "      <th>flat_type</th>\n",
       "      <th>floor_area_sqm</th>\n",
       "      <th>flat_model</th>\n",
       "      <th>lease_commence_date</th>\n",
       "      <th>remaining_lease</th>\n",
       "      <th>resale_price</th>\n",
       "      <th>address</th>\n",
       "      <th>year</th>\n",
       "      <th>storey_start</th>\n",
       "      <th>storey_end</th>\n",
       "    </tr>\n",
       "  </thead>\n",
       "  <tbody>\n",
       "    <tr>\n",
       "      <th>0</th>\n",
       "      <td>1</td>\n",
       "      <td>0</td>\n",
       "      <td>2.0</td>\n",
       "      <td>60.0</td>\n",
       "      <td>5.0</td>\n",
       "      <td>1986</td>\n",
       "      <td>70</td>\n",
       "      <td>255000.0</td>\n",
       "      <td>174 ANG MO KIO AVE 4</td>\n",
       "      <td>2015</td>\n",
       "      <td>07</td>\n",
       "      <td>09</td>\n",
       "    </tr>\n",
       "    <tr>\n",
       "      <th>1</th>\n",
       "      <td>1</td>\n",
       "      <td>0</td>\n",
       "      <td>2.0</td>\n",
       "      <td>68.0</td>\n",
       "      <td>12.0</td>\n",
       "      <td>1981</td>\n",
       "      <td>65</td>\n",
       "      <td>275000.0</td>\n",
       "      <td>541 ANG MO KIO AVE 10</td>\n",
       "      <td>2015</td>\n",
       "      <td>01</td>\n",
       "      <td>03</td>\n",
       "    </tr>\n",
       "  </tbody>\n",
       "</table>\n",
       "</div>"
      ],
      "text/plain": [
       "   month  town  flat_type  floor_area_sqm  flat_model  lease_commence_date  \\\n",
       "0      1     0        2.0            60.0         5.0                 1986   \n",
       "1      1     0        2.0            68.0        12.0                 1981   \n",
       "\n",
       "  remaining_lease  resale_price                address  year storey_start  \\\n",
       "0              70      255000.0   174 ANG MO KIO AVE 4  2015           07   \n",
       "1              65      275000.0  541 ANG MO KIO AVE 10  2015           01   \n",
       "\n",
       "  storey_end  \n",
       "0         09  \n",
       "1         03  "
      ]
     },
     "execution_count": 33,
     "metadata": {},
     "output_type": "execute_result"
    }
   ],
   "source": [
    "df_5.head(2)"
   ]
  },
  {
   "cell_type": "code",
   "execution_count": 34,
   "metadata": {},
   "outputs": [
    {
     "data": {
      "text/plain": [
       "9586"
      ]
     },
     "execution_count": 34,
     "metadata": {},
     "output_type": "execute_result"
    }
   ],
   "source": [
    "df_5[\"address\"].nunique()"
   ]
  },
  {
   "cell_type": "code",
   "execution_count": 35,
   "metadata": {},
   "outputs": [
    {
     "data": {
      "text/plain": [
       "216958"
      ]
     },
     "execution_count": 35,
     "metadata": {},
     "output_type": "execute_result"
    }
   ],
   "source": [
    "df_5[\"address\"].count()"
   ]
  },
  {
   "cell_type": "markdown",
   "metadata": {},
   "source": [
    "# Address have 9585 unique values in the 215064 , so i am encoding it for the correlation checking\n",
    "# I am  choosing the \"LabelEncoder\" for the \"address\" column"
   ]
  },
  {
   "cell_type": "code",
   "execution_count": 36,
   "metadata": {},
   "outputs": [],
   "source": [
    "df_5[\"address\"]= LabelEncoder().fit_transform(df_5[\"address\"])"
   ]
  },
  {
   "cell_type": "code",
   "execution_count": 37,
   "metadata": {},
   "outputs": [],
   "source": [
    "df_5[\"storey_start\"]= df_5[\"storey_start\"].astype(int)\n",
    "df_5[\"storey_end\"]= df_5[\"storey_end\"].astype(int)"
   ]
  },
  {
   "cell_type": "code",
   "execution_count": 38,
   "metadata": {},
   "outputs": [],
   "source": [
    "# \"remaining_lease\" have a \"60 years 8 months\" this type of data ,\n",
    "# so we want to split the year and month separately for the correlation checking\n",
    "slice_values= []\n",
    "for i in df_5[\"remaining_lease\"].astype(str):\n",
    "    j= i.replace(\"years\",\"\")\n",
    "    k= j.replace(\"months\",\"\")\n",
    "    l= k.replace(\"month\",\"\")\n",
    "    m= l.strip()\n",
    "    n= m.split(\"  \")\n",
    "    slice_values.append(n)"
   ]
  },
  {
   "cell_type": "code",
   "execution_count": 39,
   "metadata": {},
   "outputs": [
    {
     "name": "stdout",
     "output_type": "stream",
     "text": [
      "0                         70\n",
      "1                         65\n",
      "2                         64\n",
      "3                         63\n",
      "4                         64\n",
      "                 ...        \n",
      "216953    62 years 10 months\n",
      "216954    62 years 10 months\n",
      "216955    62 years 09 months\n",
      "216956    62 years 11 months\n",
      "216957    62 years 09 months\n",
      "Name: remaining_lease, Length: 216958, dtype: object\n"
     ]
    }
   ],
   "source": [
    "print(df_5[\"remaining_lease\"])"
   ]
  },
  {
   "cell_type": "code",
   "execution_count": 40,
   "metadata": {},
   "outputs": [],
   "source": [
    "df_data= pd.DataFrame(slice_values,columns=[\"remaining_lease_year\", \"remaining_lease_month\"])"
   ]
  },
  {
   "cell_type": "code",
   "execution_count": 41,
   "metadata": {},
   "outputs": [],
   "source": [
    "df_data[\"remaining_lease_year\"]= df_data[\"remaining_lease_year\"].astype(int)\n",
    "df_data[\"remaining_lease_month\"]= df_data[\"remaining_lease_month\"].fillna(0).astype(int)"
   ]
  },
  {
   "cell_type": "code",
   "execution_count": 42,
   "metadata": {},
   "outputs": [],
   "source": [
    "#droping the \"remaining_lease\" column\n",
    "df_5.drop(columns=[\"remaining_lease\"],inplace= True)\n"
   ]
  },
  {
   "cell_type": "code",
   "execution_count": 43,
   "metadata": {},
   "outputs": [],
   "source": [
    "df_6= pd.concat([df_5,df_data],axis=1)"
   ]
  },
  {
   "cell_type": "code",
   "execution_count": 44,
   "metadata": {},
   "outputs": [
    {
     "data": {
      "text/plain": [
       "Index(['month', 'town', 'flat_type', 'floor_area_sqm', 'flat_model',\n",
       "       'lease_commence_date', 'resale_price', 'address', 'year',\n",
       "       'storey_start', 'storey_end', 'remaining_lease_year',\n",
       "       'remaining_lease_month'],\n",
       "      dtype='object')"
      ]
     },
     "execution_count": 44,
     "metadata": {},
     "output_type": "execute_result"
    }
   ],
   "source": [
    "df_6.columns "
   ]
  },
  {
   "cell_type": "code",
   "execution_count": 45,
   "metadata": {},
   "outputs": [],
   "source": [
    "# set the columns\n",
    "df_7= df_6[['year','month', 'town', 'flat_type', 'floor_area_sqm', 'flat_model', 'address', \n",
    "       'storey_start', 'storey_end', 'remaining_lease_year','remaining_lease_month',\n",
    "       'lease_commence_date', 'resale_price']]"
   ]
  },
  {
   "cell_type": "code",
   "execution_count": 46,
   "metadata": {},
   "outputs": [],
   "source": [
    "df_8=df_7.sort_values(by=[\"year\",\"month\"])"
   ]
  },
  {
   "cell_type": "code",
   "execution_count": 47,
   "metadata": {},
   "outputs": [],
   "source": [
    "df_8.to_csv(\"ResaleFlatPrices.csv\", index= False)"
   ]
  },
  {
   "cell_type": "code",
   "execution_count": 48,
   "metadata": {},
   "outputs": [
    {
     "data": {
      "image/png": "[encoded data removed]",
      "text/plain": [
       "<Figure size 1000x500 with 2 Axes>"
      ]
     },
     "metadata": {},
     "output_type": "display_data"
    }
   ],
   "source": [
    "# Checking the Correlation using heatmap\n",
    "\n",
    "df_8_corr= df_8.corr()\n",
    "plt.figure(figsize=(10,5))\n",
    "sns.heatmap(df_8_corr,annot= True, cmap=\"Greens\", fmt=\".2f\")\n",
    "plt.show()"
   ]
  },
  {
   "cell_type": "code",
   "execution_count": 50,
   "metadata": {},
   "outputs": [
    {
     "data": {
      "text/html": [
       "<div>\n",
       "<style scoped>\n",
       "    .dataframe tbody tr th:only-of-type {\n",
       "        vertical-align: middle;\n",
       "    }\n",
       "\n",
       "    .dataframe tbody tr th {\n",
       "        vertical-align: top;\n",
       "    }\n",
       "\n",
       "    .dataframe thead th {\n",
       "        text-align: right;\n",
       "    }\n",
       "</style>\n",
       "<table border=\"1\" class=\"dataframe\">\n",
       "  <thead>\n",
       "    <tr style=\"text-align: right;\">\n",
       "      <th></th>\n",
       "      <th>year</th>\n",
       "      <th>month</th>\n",
       "      <th>town</th>\n",
       "      <th>flat_type</th>\n",
       "      <th>floor_area_sqm</th>\n",
       "      <th>flat_model</th>\n",
       "      <th>address</th>\n",
       "      <th>storey_start</th>\n",
       "      <th>storey_end</th>\n",
       "      <th>remaining_lease_year</th>\n",
       "      <th>remaining_lease_month</th>\n",
       "      <th>lease_commence_date</th>\n",
       "      <th>resale_price</th>\n",
       "    </tr>\n",
       "  </thead>\n",
       "  <tbody>\n",
       "    <tr>\n",
       "      <th>0</th>\n",
       "      <td>2015</td>\n",
       "      <td>1</td>\n",
       "      <td>0</td>\n",
       "      <td>2.0</td>\n",
       "      <td>60.0</td>\n",
       "      <td>5.0</td>\n",
       "      <td>1634</td>\n",
       "      <td>7</td>\n",
       "      <td>9</td>\n",
       "      <td>70</td>\n",
       "      <td>0</td>\n",
       "      <td>1986</td>\n",
       "      <td>255000.0</td>\n",
       "    </tr>\n",
       "    <tr>\n",
       "      <th>1</th>\n",
       "      <td>2015</td>\n",
       "      <td>1</td>\n",
       "      <td>0</td>\n",
       "      <td>2.0</td>\n",
       "      <td>68.0</td>\n",
       "      <td>12.0</td>\n",
       "      <td>6593</td>\n",
       "      <td>1</td>\n",
       "      <td>3</td>\n",
       "      <td>65</td>\n",
       "      <td>0</td>\n",
       "      <td>1981</td>\n",
       "      <td>275000.0</td>\n",
       "    </tr>\n",
       "  </tbody>\n",
       "</table>\n",
       "</div>"
      ],
      "text/plain": [
       "   year  month  town  flat_type  floor_area_sqm  flat_model  address  \\\n",
       "0  2015      1     0        2.0            60.0         5.0     1634   \n",
       "1  2015      1     0        2.0            68.0        12.0     6593   \n",
       "\n",
       "   storey_start  storey_end  remaining_lease_year  remaining_lease_month  \\\n",
       "0             7           9                    70                      0   \n",
       "1             1           3                    65                      0   \n",
       "\n",
       "   lease_commence_date  resale_price  \n",
       "0                 1986      255000.0  \n",
       "1                 1981      275000.0  "
      ]
     },
     "execution_count": 50,
     "metadata": {},
     "output_type": "execute_result"
    }
   ],
   "source": [
    "df_final= pd.read_csv(\"C:\\\\Users\\\\keshavk\\\\code\\\\flat\\\\ResaleFlatPrices.csv\")\n",
    "df_final.head(2)"
   ]
  },
  {
   "cell_type": "code",
   "execution_count": 51,
   "metadata": {},
   "outputs": [
    {
     "data": {
      "text/plain": [
       "310"
      ]
     },
     "execution_count": 51,
     "metadata": {},
     "output_type": "execute_result"
    }
   ],
   "source": [
    "# checking the duplicate values\n",
    "df_final.duplicated().sum()"
   ]
  },
  {
   "cell_type": "code",
   "execution_count": 52,
   "metadata": {},
   "outputs": [],
   "source": [
    "df_final_1= df_final.drop_duplicates()\n",
    "df_final_1.reset_index(drop= True, inplace= True)"
   ]
  },
  {
   "cell_type": "code",
   "execution_count": 53,
   "metadata": {},
   "outputs": [],
   "source": [
    "# The month,address column does have very lowest correlation with other features\n",
    "# So I drop the month and address columns\n",
    "\n",
    "\n"
   ]
  },
  {
   "cell_type": "code",
   "execution_count": 54,
   "metadata": {},
   "outputs": [],
   "source": [
    "df_final_2= df_final_1.drop(columns=[\"month\",\"address\"])"
   ]
  },
  {
   "cell_type": "code",
   "execution_count": 55,
   "metadata": {},
   "outputs": [
    {
     "data": {
      "text/html": [
       "<div>\n",
       "<style scoped>\n",
       "    .dataframe tbody tr th:only-of-type {\n",
       "        vertical-align: middle;\n",
       "    }\n",
       "\n",
       "    .dataframe tbody tr th {\n",
       "        vertical-align: top;\n",
       "    }\n",
       "\n",
       "    .dataframe thead th {\n",
       "        text-align: right;\n",
       "    }\n",
       "</style>\n",
       "<table border=\"1\" class=\"dataframe\">\n",
       "  <thead>\n",
       "    <tr style=\"text-align: right;\">\n",
       "      <th></th>\n",
       "      <th>year</th>\n",
       "      <th>town</th>\n",
       "      <th>flat_type</th>\n",
       "      <th>floor_area_sqm</th>\n",
       "      <th>flat_model</th>\n",
       "      <th>storey_start</th>\n",
       "      <th>storey_end</th>\n",
       "      <th>remaining_lease_year</th>\n",
       "      <th>remaining_lease_month</th>\n",
       "      <th>lease_commence_date</th>\n",
       "      <th>resale_price</th>\n",
       "    </tr>\n",
       "  </thead>\n",
       "  <tbody>\n",
       "    <tr>\n",
       "      <th>216646</th>\n",
       "      <td>2024</td>\n",
       "      <td>25</td>\n",
       "      <td>5.0</td>\n",
       "      <td>169.0</td>\n",
       "      <td>3.0</td>\n",
       "      <td>1</td>\n",
       "      <td>3</td>\n",
       "      <td>67</td>\n",
       "      <td>2</td>\n",
       "      <td>1992</td>\n",
       "      <td>1032000.0</td>\n",
       "    </tr>\n",
       "    <tr>\n",
       "      <th>216647</th>\n",
       "      <td>2024</td>\n",
       "      <td>25</td>\n",
       "      <td>5.0</td>\n",
       "      <td>154.0</td>\n",
       "      <td>7.0</td>\n",
       "      <td>4</td>\n",
       "      <td>6</td>\n",
       "      <td>62</td>\n",
       "      <td>9</td>\n",
       "      <td>1988</td>\n",
       "      <td>948000.0</td>\n",
       "    </tr>\n",
       "  </tbody>\n",
       "</table>\n",
       "</div>"
      ],
      "text/plain": [
       "        year  town  flat_type  floor_area_sqm  flat_model  storey_start  \\\n",
       "216646  2024    25        5.0           169.0         3.0             1   \n",
       "216647  2024    25        5.0           154.0         7.0             4   \n",
       "\n",
       "        storey_end  remaining_lease_year  remaining_lease_month  \\\n",
       "216646           3                    67                      2   \n",
       "216647           6                    62                      9   \n",
       "\n",
       "        lease_commence_date  resale_price  \n",
       "216646                 1992     1032000.0  \n",
       "216647                 1988      948000.0  "
      ]
     },
     "execution_count": 55,
     "metadata": {},
     "output_type": "execute_result"
    }
   ],
   "source": [
    "df_final_2.tail(2)"
   ]
  },
  {
   "cell_type": "code",
   "execution_count": 56,
   "metadata": {},
   "outputs": [],
   "source": [
    "# detecting the skewed columns using plot\n",
    "def plot(df,column):\n",
    "  #distplot\n",
    "  plt.figure(figsize=(15,4))\n",
    "  plt.subplot(1,3,1)\n",
    "  sns.distplot(df[column])\n",
    "  plt.title(\"distplot for\"+\" \"+column)\n",
    "\n",
    "  #histogram plot\n",
    "\n",
    "  plt.subplot(1,3,2)\n",
    "  sns.histplot(df, x= column, kde= True, bins=30,color=\"salmon\")\n",
    "  plt.title(\"histogram plot for\"+\" \"+column)\n",
    "\n",
    "  #boxplot\n",
    "\n",
    "  plt.subplot(1,3,3)\n",
    "\n",
    "  sns.boxplot(df, x=column)\n",
    "  plt.title(\"Box plot for\"+\" \"+column)"
   ]
  },
  {
   "cell_type": "code",
   "execution_count": null,
   "metadata": {},
   "outputs": [],
   "source": [
    "#for i in df_final_2.columns:\n",
    "    #plot(df_final_2,i)"
   ]
  },
  {
   "cell_type": "code",
   "execution_count": 57,
   "metadata": {},
   "outputs": [
    {
     "data": {
      "text/html": [
       "<div>\n",
       "<style scoped>\n",
       "    .dataframe tbody tr th:only-of-type {\n",
       "        vertical-align: middle;\n",
       "    }\n",
       "\n",
       "    .dataframe tbody tr th {\n",
       "        vertical-align: top;\n",
       "    }\n",
       "\n",
       "    .dataframe thead th {\n",
       "        text-align: right;\n",
       "    }\n",
       "</style>\n",
       "<table border=\"1\" class=\"dataframe\">\n",
       "  <thead>\n",
       "    <tr style=\"text-align: right;\">\n",
       "      <th></th>\n",
       "      <th>count</th>\n",
       "      <th>mean</th>\n",
       "      <th>std</th>\n",
       "      <th>min</th>\n",
       "      <th>25%</th>\n",
       "      <th>50%</th>\n",
       "      <th>75%</th>\n",
       "      <th>max</th>\n",
       "    </tr>\n",
       "  </thead>\n",
       "  <tbody>\n",
       "    <tr>\n",
       "      <th>year</th>\n",
       "      <td>216648.0</td>\n",
       "      <td>2019.583241</td>\n",
       "      <td>2.671008</td>\n",
       "      <td>2015.0</td>\n",
       "      <td>2017.0</td>\n",
       "      <td>2020.0</td>\n",
       "      <td>2022.0</td>\n",
       "      <td>2024.0</td>\n",
       "    </tr>\n",
       "    <tr>\n",
       "      <th>town</th>\n",
       "      <td>216648.0</td>\n",
       "      <td>13.894040</td>\n",
       "      <td>7.956379</td>\n",
       "      <td>0.0</td>\n",
       "      <td>8.0</td>\n",
       "      <td>14.0</td>\n",
       "      <td>21.0</td>\n",
       "      <td>25.0</td>\n",
       "    </tr>\n",
       "    <tr>\n",
       "      <th>flat_type</th>\n",
       "      <td>216648.0</td>\n",
       "      <td>3.121294</td>\n",
       "      <td>0.919229</td>\n",
       "      <td>0.0</td>\n",
       "      <td>2.0</td>\n",
       "      <td>3.0</td>\n",
       "      <td>4.0</td>\n",
       "      <td>6.0</td>\n",
       "    </tr>\n",
       "    <tr>\n",
       "      <th>floor_area_sqm</th>\n",
       "      <td>216648.0</td>\n",
       "      <td>97.147658</td>\n",
       "      <td>24.057575</td>\n",
       "      <td>31.0</td>\n",
       "      <td>81.0</td>\n",
       "      <td>94.0</td>\n",
       "      <td>112.0</td>\n",
       "      <td>280.0</td>\n",
       "    </tr>\n",
       "    <tr>\n",
       "      <th>flat_model</th>\n",
       "      <td>216648.0</td>\n",
       "      <td>8.692090</td>\n",
       "      <td>3.647236</td>\n",
       "      <td>0.0</td>\n",
       "      <td>5.0</td>\n",
       "      <td>8.0</td>\n",
       "      <td>12.0</td>\n",
       "      <td>20.0</td>\n",
       "    </tr>\n",
       "    <tr>\n",
       "      <th>storey_start</th>\n",
       "      <td>216648.0</td>\n",
       "      <td>7.656960</td>\n",
       "      <td>5.843774</td>\n",
       "      <td>1.0</td>\n",
       "      <td>4.0</td>\n",
       "      <td>7.0</td>\n",
       "      <td>10.0</td>\n",
       "      <td>49.0</td>\n",
       "    </tr>\n",
       "    <tr>\n",
       "      <th>storey_end</th>\n",
       "      <td>216648.0</td>\n",
       "      <td>9.656960</td>\n",
       "      <td>5.843774</td>\n",
       "      <td>3.0</td>\n",
       "      <td>6.0</td>\n",
       "      <td>9.0</td>\n",
       "      <td>12.0</td>\n",
       "      <td>51.0</td>\n",
       "    </tr>\n",
       "    <tr>\n",
       "      <th>remaining_lease_year</th>\n",
       "      <td>216648.0</td>\n",
       "      <td>74.109482</td>\n",
       "      <td>13.465957</td>\n",
       "      <td>41.0</td>\n",
       "      <td>63.0</td>\n",
       "      <td>74.0</td>\n",
       "      <td>85.0</td>\n",
       "      <td>97.0</td>\n",
       "    </tr>\n",
       "    <tr>\n",
       "      <th>remaining_lease_month</th>\n",
       "      <td>216648.0</td>\n",
       "      <td>4.596068</td>\n",
       "      <td>3.782861</td>\n",
       "      <td>0.0</td>\n",
       "      <td>1.0</td>\n",
       "      <td>4.0</td>\n",
       "      <td>8.0</td>\n",
       "      <td>11.0</td>\n",
       "    </tr>\n",
       "    <tr>\n",
       "      <th>lease_commence_date</th>\n",
       "      <td>216648.0</td>\n",
       "      <td>1995.127603</td>\n",
       "      <td>13.672250</td>\n",
       "      <td>1966.0</td>\n",
       "      <td>1985.0</td>\n",
       "      <td>1995.0</td>\n",
       "      <td>2005.0</td>\n",
       "      <td>2022.0</td>\n",
       "    </tr>\n",
       "    <tr>\n",
       "      <th>resale_price</th>\n",
       "      <td>216648.0</td>\n",
       "      <td>486731.360976</td>\n",
       "      <td>168147.109295</td>\n",
       "      <td>140000.0</td>\n",
       "      <td>363000.0</td>\n",
       "      <td>453000.0</td>\n",
       "      <td>580000.0</td>\n",
       "      <td>1568888.0</td>\n",
       "    </tr>\n",
       "  </tbody>\n",
       "</table>\n",
       "</div>"
      ],
      "text/plain": [
       "                          count           mean            std       min  \\\n",
       "year                   216648.0    2019.583241       2.671008    2015.0   \n",
       "town                   216648.0      13.894040       7.956379       0.0   \n",
       "flat_type              216648.0       3.121294       0.919229       0.0   \n",
       "floor_area_sqm         216648.0      97.147658      24.057575      31.0   \n",
       "flat_model             216648.0       8.692090       3.647236       0.0   \n",
       "storey_start           216648.0       7.656960       5.843774       1.0   \n",
       "storey_end             216648.0       9.656960       5.843774       3.0   \n",
       "remaining_lease_year   216648.0      74.109482      13.465957      41.0   \n",
       "remaining_lease_month  216648.0       4.596068       3.782861       0.0   \n",
       "lease_commence_date    216648.0    1995.127603      13.672250    1966.0   \n",
       "resale_price           216648.0  486731.360976  168147.109295  140000.0   \n",
       "\n",
       "                            25%       50%       75%        max  \n",
       "year                     2017.0    2020.0    2022.0     2024.0  \n",
       "town                        8.0      14.0      21.0       25.0  \n",
       "flat_type                   2.0       3.0       4.0        6.0  \n",
       "floor_area_sqm             81.0      94.0     112.0      280.0  \n",
       "flat_model                  5.0       8.0      12.0       20.0  \n",
       "storey_start                4.0       7.0      10.0       49.0  \n",
       "storey_end                  6.0       9.0      12.0       51.0  \n",
       "remaining_lease_year       63.0      74.0      85.0       97.0  \n",
       "remaining_lease_month       1.0       4.0       8.0       11.0  \n",
       "lease_commence_date      1985.0    1995.0    2005.0     2022.0  \n",
       "resale_price           363000.0  453000.0  580000.0  1568888.0  "
      ]
     },
     "execution_count": 57,
     "metadata": {},
     "output_type": "execute_result"
    }
   ],
   "source": [
    "df_final_2.describe().T"
   ]
  },
  {
   "cell_type": "markdown",
   "metadata": {},
   "source": [
    "# skewness handling\n",
    "\n",
    "# The Skewness Columns are\n",
    "# 2. storey_start\n",
    "# 3. storey_end\n",
    "# 4. resale_price"
   ]
  },
  {
   "cell_type": "code",
   "execution_count": 58,
   "metadata": {},
   "outputs": [],
   "source": [
    "df_final_3= df_final_2.copy()"
   ]
  },
  {
   "cell_type": "code",
   "execution_count": 59,
   "metadata": {},
   "outputs": [],
   "source": [
    "df_final_3[\"storey_start\"]= np.log(df_final_3[\"storey_start\"])\n",
    "df_final_3[\"storey_end\"]= np.log(df_final_3[\"storey_end\"])\n",
    "df_final_3[\"resale_price\"]= np.log(df_final_3[\"resale_price\"])"
   ]
  },
  {
   "cell_type": "code",
   "execution_count": null,
   "metadata": {},
   "outputs": [],
   "source": [
    "#skewed_columns=[\"storey_start\",\"storey_end\",\"resale_price\"]\n",
    "#for i in skewed_columns:\n",
    "    #plot(df_final_3,i)"
   ]
  },
  {
   "cell_type": "markdown",
   "metadata": {},
   "source": [
    " # Outliers Handling - Interquartile Range(IQR) Method"
   ]
  },
  {
   "cell_type": "code",
   "execution_count": null,
   "metadata": {},
   "outputs": [],
   "source": [
    "# The Outlier Columns are\n",
    "# 1. floor_area_sqm\n",
    "# 2. storey_start\n",
    "# 3. sortey_end\n",
    "# 4. resale_price\n",
    "# Recorrect the Outliers"
   ]
  },
  {
   "cell_type": "code",
   "execution_count": null,
   "metadata": {},
   "outputs": [],
   "source": [
    "# (Ex: lower threshold = 5 and upper threshold = 20)\n",
    "# above upper threshold values (>20) are converted to upper threshold value (20) in features\n",
    "# below lower threshold values (<5)  are converted to lower threshold value (5)  in features"
   ]
  },
  {
   "cell_type": "code",
   "execution_count": 60,
   "metadata": {},
   "outputs": [],
   "source": [
    "df_final_4= df_final_3.copy()"
   ]
  },
  {
   "cell_type": "code",
   "execution_count": 61,
   "metadata": {},
   "outputs": [],
   "source": [
    "def outlier(df,column):\n",
    "  q1= df[column].quantile(0.25)\n",
    "  q3= df[column].quantile(0.75)\n",
    "\n",
    "  iqr= q3-q1\n",
    "\n",
    "  upper_threshold= q3 + (1.5*iqr)\n",
    "  lower_threshold= q1 - (1.5*iqr)\n",
    "\n",
    "  df[column]= df[column].clip(lower_threshold, upper_threshold)"
   ]
  },
  {
   "cell_type": "code",
   "execution_count": null,
   "metadata": {},
   "outputs": [],
   "source": [
    "#outlier_columns=[\"floor_area_sqm\",\"storey_start\",\"storey_end\",\"resale_price\"]\n",
    "#for j in outlier_columns:\n",
    "    #outlier(df_final_4,j)"
   ]
  },
  {
   "cell_type": "code",
   "execution_count": null,
   "metadata": {},
   "outputs": [],
   "source": [
    "#for k in outlier_columns:\n",
    "    #plot(df_final_4,k)"
   ]
  },
  {
   "cell_type": "code",
   "execution_count": 62,
   "metadata": {},
   "outputs": [
    {
     "data": {
      "image/png": "[encoded data removed]",
      "text/plain": [
       "<Figure size 1000x500 with 2 Axes>"
      ]
     },
     "metadata": {},
     "output_type": "display_data"
    }
   ],
   "source": [
    "# Checking the correlation after the outlier recorrection\n",
    "plt.figure(figsize=(10,5))\n",
    "sns.heatmap(df_final_4.corr(), annot= True, cmap=\"Greens\", fmt=\"0.2f\")\n",
    "plt.show()"
   ]
  },
  {
   "cell_type": "code",
   "execution_count": null,
   "metadata": {},
   "outputs": [],
   "source": [
    "# Model Selection (Regression)"
   ]
  },
  {
   "cell_type": "code",
   "execution_count": 63,
   "metadata": {},
   "outputs": [],
   "source": [
    "df_final_5= df_final_4.copy()"
   ]
  },
  {
   "cell_type": "code",
   "execution_count": 59,
   "metadata": {},
   "outputs": [
    {
     "data": {
      "text/html": [
       "<div>\n",
       "<style scoped>\n",
       "    .dataframe tbody tr th:only-of-type {\n",
       "        vertical-align: middle;\n",
       "    }\n",
       "\n",
       "    .dataframe tbody tr th {\n",
       "        vertical-align: top;\n",
       "    }\n",
       "\n",
       "    .dataframe thead th {\n",
       "        text-align: right;\n",
       "    }\n",
       "</style>\n",
       "<table border=\"1\" class=\"dataframe\">\n",
       "  <thead>\n",
       "    <tr style=\"text-align: right;\">\n",
       "      <th></th>\n",
       "      <th>count</th>\n",
       "      <th>mean</th>\n",
       "      <th>std</th>\n",
       "      <th>min</th>\n",
       "      <th>25%</th>\n",
       "      <th>50%</th>\n",
       "      <th>75%</th>\n",
       "      <th>max</th>\n",
       "    </tr>\n",
       "  </thead>\n",
       "  <tbody>\n",
       "    <tr>\n",
       "      <th>year</th>\n",
       "      <td>214756.0</td>\n",
       "      <td>2019.544320</td>\n",
       "      <td>2.650223</td>\n",
       "      <td>2015.000000</td>\n",
       "      <td>2017.000000</td>\n",
       "      <td>2020.000000</td>\n",
       "      <td>2022.000000</td>\n",
       "      <td>2024.000000</td>\n",
       "    </tr>\n",
       "    <tr>\n",
       "      <th>town</th>\n",
       "      <td>214756.0</td>\n",
       "      <td>13.895770</td>\n",
       "      <td>7.956038</td>\n",
       "      <td>0.000000</td>\n",
       "      <td>8.000000</td>\n",
       "      <td>14.000000</td>\n",
       "      <td>21.000000</td>\n",
       "      <td>25.000000</td>\n",
       "    </tr>\n",
       "    <tr>\n",
       "      <th>flat_type</th>\n",
       "      <td>214756.0</td>\n",
       "      <td>3.121855</td>\n",
       "      <td>0.919275</td>\n",
       "      <td>0.000000</td>\n",
       "      <td>2.000000</td>\n",
       "      <td>3.000000</td>\n",
       "      <td>4.000000</td>\n",
       "      <td>6.000000</td>\n",
       "    </tr>\n",
       "    <tr>\n",
       "      <th>floor_area_sqm</th>\n",
       "      <td>214756.0</td>\n",
       "      <td>97.162959</td>\n",
       "      <td>24.058523</td>\n",
       "      <td>31.000000</td>\n",
       "      <td>82.000000</td>\n",
       "      <td>94.000000</td>\n",
       "      <td>112.000000</td>\n",
       "      <td>280.000000</td>\n",
       "    </tr>\n",
       "    <tr>\n",
       "      <th>flat_model</th>\n",
       "      <td>214756.0</td>\n",
       "      <td>8.694034</td>\n",
       "      <td>3.648788</td>\n",
       "      <td>0.000000</td>\n",
       "      <td>5.000000</td>\n",
       "      <td>8.000000</td>\n",
       "      <td>12.000000</td>\n",
       "      <td>20.000000</td>\n",
       "    </tr>\n",
       "    <tr>\n",
       "      <th>storey_start</th>\n",
       "      <td>214756.0</td>\n",
       "      <td>1.693375</td>\n",
       "      <td>0.924957</td>\n",
       "      <td>0.000000</td>\n",
       "      <td>1.386294</td>\n",
       "      <td>1.945910</td>\n",
       "      <td>2.302585</td>\n",
       "      <td>3.891820</td>\n",
       "    </tr>\n",
       "    <tr>\n",
       "      <th>storey_end</th>\n",
       "      <td>214756.0</td>\n",
       "      <td>2.094084</td>\n",
       "      <td>0.603438</td>\n",
       "      <td>1.098612</td>\n",
       "      <td>1.791759</td>\n",
       "      <td>2.197225</td>\n",
       "      <td>2.484907</td>\n",
       "      <td>3.931826</td>\n",
       "    </tr>\n",
       "    <tr>\n",
       "      <th>remaining_lease_year</th>\n",
       "      <td>214756.0</td>\n",
       "      <td>74.124607</td>\n",
       "      <td>13.448358</td>\n",
       "      <td>41.000000</td>\n",
       "      <td>63.000000</td>\n",
       "      <td>74.000000</td>\n",
       "      <td>85.000000</td>\n",
       "      <td>97.000000</td>\n",
       "    </tr>\n",
       "    <tr>\n",
       "      <th>remaining_lease_month</th>\n",
       "      <td>214756.0</td>\n",
       "      <td>4.587564</td>\n",
       "      <td>3.784193</td>\n",
       "      <td>0.000000</td>\n",
       "      <td>1.000000</td>\n",
       "      <td>4.000000</td>\n",
       "      <td>8.000000</td>\n",
       "      <td>11.000000</td>\n",
       "    </tr>\n",
       "    <tr>\n",
       "      <th>lease_commence_date</th>\n",
       "      <td>214756.0</td>\n",
       "      <td>1995.105310</td>\n",
       "      <td>13.655796</td>\n",
       "      <td>1966.000000</td>\n",
       "      <td>1985.000000</td>\n",
       "      <td>1995.000000</td>\n",
       "      <td>2005.000000</td>\n",
       "      <td>2022.000000</td>\n",
       "    </tr>\n",
       "    <tr>\n",
       "      <th>resale_price</th>\n",
       "      <td>214756.0</td>\n",
       "      <td>13.037831</td>\n",
       "      <td>0.331199</td>\n",
       "      <td>11.849398</td>\n",
       "      <td>12.800780</td>\n",
       "      <td>13.019223</td>\n",
       "      <td>13.266464</td>\n",
       "      <td>14.265878</td>\n",
       "    </tr>\n",
       "  </tbody>\n",
       "</table>\n",
       "</div>"
      ],
      "text/plain": [
       "                          count         mean        std          min  \\\n",
       "year                   214756.0  2019.544320   2.650223  2015.000000   \n",
       "town                   214756.0    13.895770   7.956038     0.000000   \n",
       "flat_type              214756.0     3.121855   0.919275     0.000000   \n",
       "floor_area_sqm         214756.0    97.162959  24.058523    31.000000   \n",
       "flat_model             214756.0     8.694034   3.648788     0.000000   \n",
       "storey_start           214756.0     1.693375   0.924957     0.000000   \n",
       "storey_end             214756.0     2.094084   0.603438     1.098612   \n",
       "remaining_lease_year   214756.0    74.124607  13.448358    41.000000   \n",
       "remaining_lease_month  214756.0     4.587564   3.784193     0.000000   \n",
       "lease_commence_date    214756.0  1995.105310  13.655796  1966.000000   \n",
       "resale_price           214756.0    13.037831   0.331199    11.849398   \n",
       "\n",
       "                               25%          50%          75%          max  \n",
       "year                   2017.000000  2020.000000  2022.000000  2024.000000  \n",
       "town                      8.000000    14.000000    21.000000    25.000000  \n",
       "flat_type                 2.000000     3.000000     4.000000     6.000000  \n",
       "floor_area_sqm           82.000000    94.000000   112.000000   280.000000  \n",
       "flat_model                5.000000     8.000000    12.000000    20.000000  \n",
       "storey_start              1.386294     1.945910     2.302585     3.891820  \n",
       "storey_end                1.791759     2.197225     2.484907     3.931826  \n",
       "remaining_lease_year     63.000000    74.000000    85.000000    97.000000  \n",
       "remaining_lease_month     1.000000     4.000000     8.000000    11.000000  \n",
       "lease_commence_date    1985.000000  1995.000000  2005.000000  2022.000000  \n",
       "resale_price             12.800780    13.019223    13.266464    14.265878  "
      ]
     },
     "execution_count": 59,
     "metadata": {},
     "output_type": "execute_result"
    }
   ],
   "source": [
    "df_final_5.describe().T"
   ]
  },
  {
   "cell_type": "code",
   "execution_count": 64,
   "metadata": {},
   "outputs": [
    {
     "data": {
      "text/plain": [
       "1568888.5551970045"
      ]
     },
     "execution_count": 64,
     "metadata": {},
     "output_type": "execute_result"
    }
   ],
   "source": [
    "np.exp(14.265878)"
   ]
  },
  {
   "cell_type": "code",
   "execution_count": 65,
   "metadata": {},
   "outputs": [
    {
     "data": {
      "text/html": [
       "<div>\n",
       "<style scoped>\n",
       "    .dataframe tbody tr th:only-of-type {\n",
       "        vertical-align: middle;\n",
       "    }\n",
       "\n",
       "    .dataframe tbody tr th {\n",
       "        vertical-align: top;\n",
       "    }\n",
       "\n",
       "    .dataframe thead th {\n",
       "        text-align: right;\n",
       "    }\n",
       "</style>\n",
       "<table border=\"1\" class=\"dataframe\">\n",
       "  <thead>\n",
       "    <tr style=\"text-align: right;\">\n",
       "      <th></th>\n",
       "      <th>year</th>\n",
       "      <th>month</th>\n",
       "      <th>town</th>\n",
       "      <th>flat_type</th>\n",
       "      <th>floor_area_sqm</th>\n",
       "      <th>flat_model</th>\n",
       "      <th>address</th>\n",
       "      <th>storey_start</th>\n",
       "      <th>storey_end</th>\n",
       "      <th>remaining_lease_year</th>\n",
       "      <th>remaining_lease_month</th>\n",
       "      <th>lease_commence_date</th>\n",
       "      <th>resale_price</th>\n",
       "    </tr>\n",
       "  </thead>\n",
       "  <tbody>\n",
       "    <tr>\n",
       "      <th>208215</th>\n",
       "      <td>2024</td>\n",
       "      <td>1</td>\n",
       "      <td>23</td>\n",
       "      <td>4.0</td>\n",
       "      <td>117.0</td>\n",
       "      <td>4.0</td>\n",
       "      <td>1081</td>\n",
       "      <td>40</td>\n",
       "      <td>42</td>\n",
       "      <td>87</td>\n",
       "      <td>4</td>\n",
       "      <td>2012</td>\n",
       "      <td>1568888.0</td>\n",
       "    </tr>\n",
       "  </tbody>\n",
       "</table>\n",
       "</div>"
      ],
      "text/plain": [
       "        year  month  town  flat_type  floor_area_sqm  flat_model  address  \\\n",
       "208215  2024      1    23        4.0           117.0         4.0     1081   \n",
       "\n",
       "        storey_start  storey_end  remaining_lease_year  remaining_lease_month  \\\n",
       "208215            40          42                    87                      4   \n",
       "\n",
       "        lease_commence_date  resale_price  \n",
       "208215                 2012     1568888.0  "
      ]
     },
     "execution_count": 65,
     "metadata": {},
     "output_type": "execute_result"
    }
   ],
   "source": [
    "#checking how many datas are outliers based on resale_price\n",
    "df_final_1[df_final_1[\"resale_price\"] >= 1568888]"
   ]
  },
  {
   "cell_type": "code",
   "execution_count": 66,
   "metadata": {},
   "outputs": [
    {
     "data": {
      "text/plain": [
       "140000.04177720455"
      ]
     },
     "execution_count": 66,
     "metadata": {},
     "output_type": "execute_result"
    }
   ],
   "source": [
    "np.exp(11.849398)"
   ]
  },
  {
   "cell_type": "code",
   "execution_count": 67,
   "metadata": {},
   "outputs": [
    {
     "data": {
      "text/html": [
       "<div>\n",
       "<style scoped>\n",
       "    .dataframe tbody tr th:only-of-type {\n",
       "        vertical-align: middle;\n",
       "    }\n",
       "\n",
       "    .dataframe tbody tr th {\n",
       "        vertical-align: top;\n",
       "    }\n",
       "\n",
       "    .dataframe thead th {\n",
       "        text-align: right;\n",
       "    }\n",
       "</style>\n",
       "<table border=\"1\" class=\"dataframe\">\n",
       "  <thead>\n",
       "    <tr style=\"text-align: right;\">\n",
       "      <th></th>\n",
       "      <th>year</th>\n",
       "      <th>month</th>\n",
       "      <th>town</th>\n",
       "      <th>flat_type</th>\n",
       "      <th>floor_area_sqm</th>\n",
       "      <th>flat_model</th>\n",
       "      <th>address</th>\n",
       "      <th>storey_start</th>\n",
       "      <th>storey_end</th>\n",
       "      <th>remaining_lease_year</th>\n",
       "      <th>remaining_lease_month</th>\n",
       "      <th>lease_commence_date</th>\n",
       "      <th>resale_price</th>\n",
       "    </tr>\n",
       "  </thead>\n",
       "  <tbody>\n",
       "    <tr>\n",
       "      <th>104489</th>\n",
       "      <td>2020</td>\n",
       "      <td>2</td>\n",
       "      <td>23</td>\n",
       "      <td>2.0</td>\n",
       "      <td>67.0</td>\n",
       "      <td>5.0</td>\n",
       "      <td>3005</td>\n",
       "      <td>10</td>\n",
       "      <td>12</td>\n",
       "      <td>49</td>\n",
       "      <td>11</td>\n",
       "      <td>1971</td>\n",
       "      <td>140000.0</td>\n",
       "    </tr>\n",
       "  </tbody>\n",
       "</table>\n",
       "</div>"
      ],
      "text/plain": [
       "        year  month  town  flat_type  floor_area_sqm  flat_model  address  \\\n",
       "104489  2020      2    23        2.0            67.0         5.0     3005   \n",
       "\n",
       "        storey_start  storey_end  remaining_lease_year  remaining_lease_month  \\\n",
       "104489            10          12                    49                     11   \n",
       "\n",
       "        lease_commence_date  resale_price  \n",
       "104489                 1971      140000.0  "
      ]
     },
     "execution_count": 67,
     "metadata": {},
     "output_type": "execute_result"
    }
   ],
   "source": [
    "df_final_1[df_final_1[\"resale_price\"] <= 140000]"
   ]
  },
  {
   "cell_type": "code",
   "execution_count": 68,
   "metadata": {},
   "outputs": [],
   "source": [
    "# now we want to create the model for \"resale_price\" prediction\n",
    "# importing the model\n",
    "from sklearn.model_selection import train_test_split\n",
    "from sklearn.metrics import r2_score,mean_squared_error,mean_absolute_error\n",
    "from sklearn.linear_model import LinearRegression\n",
    "from sklearn.tree import DecisionTreeRegressor\n",
    "from sklearn.ensemble import RandomForestRegressor\n",
    "from sklearn.ensemble import AdaBoostRegressor\n",
    "from sklearn.ensemble import ExtraTreesRegressor\n",
    "from sklearn.ensemble import GradientBoostingRegressor\n",
    "from xgboost import XGBRegressor\n",
    "import pickle"
   ]
  },
  {
   "cell_type": "code",
   "execution_count": 69,
   "metadata": {},
   "outputs": [],
   "source": [
    "# Train Test Split for model selection\n",
    "def select_model(df, algorithm):\n",
    "    # x, y spliting\n",
    "    x= df.drop(columns=[\"resale_price\"])\n",
    "    y= df[\"resale_price\"]\n",
    "\n",
    "    X_train, X_test, y_train, y_test= train_test_split(x,y, test_size=0.2, random_state=42)\n",
    "\n",
    "    model= algorithm().fit(X_train,y_train)\n",
    "    y_pred_train= model.predict(X_train)\n",
    "    y_pred_test= model.predict(X_test)\n",
    "\n",
    "\n",
    "    #Checking the accuracy score\n",
    "    train_mse= mean_squared_error(y_train, y_pred_train)\n",
    "    train_rmse= np.sqrt(train_mse)\n",
    "    train_mae= mean_absolute_error(y_train, y_pred_train)\n",
    "    train_r2= r2_score(y_train, y_pred_train)\n",
    "\n",
    "\n",
    "    test_mse= mean_squared_error(y_test, y_pred_test)\n",
    "    test_rmse= np.sqrt(test_mse)\n",
    "    test_mae= mean_absolute_error(y_test, y_pred_test)\n",
    "    test_r2= r2_score(y_test, y_pred_test)\n",
    "\n",
    "    metrics_train={\"Data\": \"Train Data\",\n",
    "        \"Name\":algorithm.__name__, \n",
    "        \"R2_score\":train_r2,\n",
    "        \"Mean_squared_error\":train_mse,\n",
    "        \"Root_mean_squared_error\":train_rmse,\n",
    "        \"Mean_absolute_error\":train_mae\n",
    "        }\n",
    "    \n",
    "\n",
    "    metrics_test={\"Data\": \"Test Data\",\n",
    "           \"Name\":algorithm.__name__,\n",
    "           \"R2_score\":test_r2,\n",
    "           \"Mean_squared_error\":test_mse,\n",
    "           \"Root_mean_squared_error\":test_rmse,\n",
    "           \"Mean_absolute_error\":test_mae}\n",
    "    \n",
    "    print(metrics_train)\n",
    "    print(metrics_test)\n",
    "    print(\"\")\n",
    "\n"
   ]
  },
  {
   "cell_type": "code",
   "execution_count": 70,
   "metadata": {},
   "outputs": [
    {
     "name": "stdout",
     "output_type": "stream",
     "text": [
      "{'Data': 'Train Data', 'Name': 'LinearRegression', 'R2_score': 0.6770317449599867, 'Mean_squared_error': 0.035541491201094295, 'Root_mean_squared_error': 0.18852451087615715, 'Mean_absolute_error': 0.14761450330283477}\n",
      "{'Data': 'Test Data', 'Name': 'LinearRegression', 'R2_score': 0.674159686963997, 'Mean_squared_error': 0.03568056556354278, 'Root_mean_squared_error': 0.18889300030319486, 'Mean_absolute_error': 0.147994203208397}\n",
      "\n"
     ]
    }
   ],
   "source": [
    "select_model(df_final_5, LinearRegression)"
   ]
  },
  {
   "cell_type": "code",
   "execution_count": 71,
   "metadata": {},
   "outputs": [
    {
     "name": "stdout",
     "output_type": "stream",
     "text": [
      "{'Data': 'Train Data', 'Name': 'DecisionTreeRegressor', 'R2_score': 0.9962602503510166, 'Mean_squared_error': 0.0004115459558933145, 'Root_mean_squared_error': 0.020286595473201375, 'Mean_absolute_error': 0.007231604032533441}\n",
      "{'Data': 'Test Data', 'Name': 'DecisionTreeRegressor', 'R2_score': 0.9254912156930633, 'Mean_squared_error': 0.008158952275588369, 'Root_mean_squared_error': 0.09032691888683222, 'Mean_absolute_error': 0.06444855021857786}\n",
      "\n"
     ]
    }
   ],
   "source": [
    "select_model(df_final_5, DecisionTreeRegressor)"
   ]
  },
  {
   "cell_type": "code",
   "execution_count": 72,
   "metadata": {},
   "outputs": [
    {
     "name": "stdout",
     "output_type": "stream",
     "text": [
      "{'Data': 'Train Data', 'Name': 'RandomForestRegressor', 'R2_score': 0.9911492987626097, 'Mean_squared_error': 0.0009739877379380512, 'Root_mean_squared_error': 0.0312087766171321, 'Mean_absolute_error': 0.022219629882415638}\n",
      "{'Data': 'Test Data', 'Name': 'RandomForestRegressor', 'R2_score': 0.9554369617208616, 'Mean_squared_error': 0.004879796469056845, 'Root_mean_squared_error': 0.06985554000261429, 'Mean_absolute_error': 0.051331705415451144}\n",
      "\n"
     ]
    }
   ],
   "source": [
    "select_model(df_final_5, RandomForestRegressor)\n"
   ]
  },
  {
   "cell_type": "code",
   "execution_count": 73,
   "metadata": {},
   "outputs": [
    {
     "name": "stdout",
     "output_type": "stream",
     "text": [
      "{'Data': 'Train Data', 'Name': 'AdaBoostRegressor', 'R2_score': 0.655654711651756, 'Mean_squared_error': 0.03789395658855429, 'Root_mean_squared_error': 0.19466370126080076, 'Mean_absolute_error': 0.16228515562307297}\n",
      "{'Data': 'Test Data', 'Name': 'AdaBoostRegressor', 'R2_score': 0.6554902370284148, 'Mean_squared_error': 0.03772493056631093, 'Root_mean_squared_error': 0.19422906725387665, 'Mean_absolute_error': 0.1614651045415781}\n",
      "\n"
     ]
    }
   ],
   "source": [
    "select_model(df_final_5, AdaBoostRegressor)"
   ]
  },
  {
   "cell_type": "code",
   "execution_count": 74,
   "metadata": {},
   "outputs": [
    {
     "name": "stdout",
     "output_type": "stream",
     "text": [
      "{'Data': 'Train Data', 'Name': 'ExtraTreesRegressor', 'R2_score': 0.9962602503510166, 'Mean_squared_error': 0.00041154595589331457, 'Root_mean_squared_error': 0.020286595473201375, 'Mean_absolute_error': 0.007231604032543179}\n",
      "{'Data': 'Test Data', 'Name': 'ExtraTreesRegressor', 'R2_score': 0.9475430583215483, 'Mean_squared_error': 0.005744204360048384, 'Root_mean_squared_error': 0.07579052948784817, 'Mean_absolute_error': 0.055462159726422156}\n",
      "\n"
     ]
    }
   ],
   "source": [
    "select_model(df_final_5, ExtraTreesRegressor)"
   ]
  },
  {
   "cell_type": "code",
   "execution_count": 75,
   "metadata": {},
   "outputs": [
    {
     "name": "stdout",
     "output_type": "stream",
     "text": [
      "{'Data': 'Train Data', 'Name': 'GradientBoostingRegressor', 'R2_score': 0.866092302773921, 'Mean_squared_error': 0.014736058942170182, 'Root_mean_squared_error': 0.12139217002002305, 'Mean_absolute_error': 0.09158837885341908}\n",
      "{'Data': 'Test Data', 'Name': 'GradientBoostingRegressor', 'R2_score': 0.8664236701814997, 'Mean_squared_error': 0.014627039083711527, 'Root_mean_squared_error': 0.12094229650420703, 'Mean_absolute_error': 0.09121954674683179}\n",
      "\n"
     ]
    }
   ],
   "source": [
    "select_model(df_final_5, GradientBoostingRegressor)"
   ]
  },
  {
   "cell_type": "code",
   "execution_count": 77,
   "metadata": {},
   "outputs": [
    {
     "name": "stdout",
     "output_type": "stream",
     "text": [
      "{'Data': 'Train Data', 'Name': 'XGBRegressor', 'R2_score': 0.9557746397662215, 'Mean_squared_error': 0.004866841329093874, 'Root_mean_squared_error': 0.06976275029766153, 'Mean_absolute_error': 0.053291791689846955}\n",
      "{'Data': 'Test Data', 'Name': 'XGBRegressor', 'R2_score': 0.9531984393912694, 'Mean_squared_error': 0.005124921886480701, 'Root_mean_squared_error': 0.07158855974581903, 'Mean_absolute_error': 0.05480569212730595}\n",
      "\n"
     ]
    }
   ],
   "source": [
    "select_model(df_final_5, XGBRegressor) "
   ]
  },
  {
   "cell_type": "code",
   "execution_count": 78,
   "metadata": {},
   "outputs": [
    {
     "name": "stdout",
     "output_type": "stream",
     "text": [
      "{'Data': 'Test Data', 'Name': 'RandomForestRegressor', 'R2_score': 0.9553494544754795, 'Mean_squared_error': 0.004889378794758202, 'Root_mean_squared_error': 0.06992409309213958, 'Mean_absolute_error': 0.05138200979937898}\n"
     ]
    }
   ],
   "source": [
    "# RandomForestClassifier is good interpretability,\n",
    "# And it will detect the unseen data for this datas (without overfitting)\n",
    "# so i am selecting the algorithm\n",
    "\n",
    "#x,y spliting\n",
    "x= df_final_5.drop(columns=[\"resale_price\"])\n",
    "y= df_final_5[\"resale_price\"]\n",
    "\n",
    "X_train, X_test, y_train, y_test= train_test_split(x,y, test_size=0.2, random_state=42)\n",
    "\n",
    "model_1= RandomForestRegressor().fit(X_train,y_train)\n",
    "y_pred= model_1.predict(X_test)\n",
    "\n",
    "\n",
    "test_mse= mean_squared_error(y_test, y_pred)\n",
    "test_rmse= np.sqrt(test_mse)\n",
    "test_mae= mean_absolute_error(y_test, y_pred)\n",
    "test_r2= r2_score(y_test, y_pred)\n",
    "\n",
    "metrics_test={\"Data\": \"Test Data\",\n",
    "        \"Name\":RandomForestRegressor.__name__,\n",
    "        \"R2_score\":test_r2,\n",
    "        \"Mean_squared_error\":test_mse,\n",
    "        \"Root_mean_squared_error\":test_rmse,\n",
    "        \"Mean_absolute_error\":test_mae\n",
    "            }\n",
    "\n",
    "print(metrics_test) \n",
    "\n",
    "\n"
   ]
  },
  {
   "cell_type": "code",
   "execution_count": 79,
   "metadata": {},
   "outputs": [
    {
     "data": {
      "text/plain": [
       "year                     2015.000000\n",
       "town                        4.000000\n",
       "flat_type                   2.000000\n",
       "floor_area_sqm             74.000000\n",
       "flat_model                  8.000000\n",
       "storey_start                0.000000\n",
       "storey_end                  1.098612\n",
       "remaining_lease_year       68.000000\n",
       "remaining_lease_month       0.000000\n",
       "lease_commence_date      1985.000000\n",
       "resale_price               12.815838\n",
       "Name: 10456, dtype: float64"
      ]
     },
     "execution_count": 79,
     "metadata": {},
     "output_type": "execute_result"
    }
   ],
   "source": [
    "df_final_5.iloc[10456]"
   ]
  },
  {
   "cell_type": "code",
   "execution_count": 80,
   "metadata": {},
   "outputs": [
    {
     "data": {
      "text/plain": [
       "year                       int64\n",
       "town                       int64\n",
       "flat_type                float64\n",
       "floor_area_sqm           float64\n",
       "flat_model               float64\n",
       "storey_start             float64\n",
       "storey_end               float64\n",
       "remaining_lease_year       int64\n",
       "remaining_lease_month      int64\n",
       "lease_commence_date        int64\n",
       "resale_price             float64\n",
       "dtype: object"
      ]
     },
     "execution_count": 80,
     "metadata": {},
     "output_type": "execute_result"
    }
   ],
   "source": [
    "df_final_5.dtypes"
   ]
  },
  {
   "cell_type": "code",
   "execution_count": 81,
   "metadata": {},
   "outputs": [
    {
     "data": {
      "text/plain": [
       "year                     216648\n",
       "town                     216648\n",
       "flat_type                216648\n",
       "floor_area_sqm           216648\n",
       "flat_model               216648\n",
       "storey_start             216648\n",
       "storey_end               216648\n",
       "remaining_lease_year     216648\n",
       "remaining_lease_month    216648\n",
       "lease_commence_date      216648\n",
       "resale_price             216648\n",
       "dtype: int64"
      ]
     },
     "execution_count": 81,
     "metadata": {},
     "output_type": "execute_result"
    }
   ],
   "source": [
    "np.isfinite(df_final_5).sum()"
   ]
  },
  {
   "cell_type": "code",
   "execution_count": 82,
   "metadata": {},
   "outputs": [
    {
     "data": {
      "text/html": [
       "<div>\n",
       "<style scoped>\n",
       "    .dataframe tbody tr th:only-of-type {\n",
       "        vertical-align: middle;\n",
       "    }\n",
       "\n",
       "    .dataframe tbody tr th {\n",
       "        vertical-align: top;\n",
       "    }\n",
       "\n",
       "    .dataframe thead th {\n",
       "        text-align: right;\n",
       "    }\n",
       "</style>\n",
       "<table border=\"1\" class=\"dataframe\">\n",
       "  <thead>\n",
       "    <tr style=\"text-align: right;\">\n",
       "      <th></th>\n",
       "      <th>year</th>\n",
       "      <th>town</th>\n",
       "      <th>flat_type</th>\n",
       "      <th>floor_area_sqm</th>\n",
       "      <th>flat_model</th>\n",
       "      <th>storey_start</th>\n",
       "      <th>storey_end</th>\n",
       "      <th>remaining_lease_year</th>\n",
       "      <th>remaining_lease_month</th>\n",
       "      <th>lease_commence_date</th>\n",
       "      <th>resale_price</th>\n",
       "    </tr>\n",
       "  </thead>\n",
       "  <tbody>\n",
       "    <tr>\n",
       "      <th>0</th>\n",
       "      <td>2015</td>\n",
       "      <td>0</td>\n",
       "      <td>2.0</td>\n",
       "      <td>60.0</td>\n",
       "      <td>5.0</td>\n",
       "      <td>1.94591</td>\n",
       "      <td>2.197225</td>\n",
       "      <td>70</td>\n",
       "      <td>0</td>\n",
       "      <td>1986</td>\n",
       "      <td>12.449019</td>\n",
       "    </tr>\n",
       "  </tbody>\n",
       "</table>\n",
       "</div>"
      ],
      "text/plain": [
       "   year  town  flat_type  floor_area_sqm  flat_model  storey_start  \\\n",
       "0  2015     0        2.0            60.0         5.0       1.94591   \n",
       "\n",
       "   storey_end  remaining_lease_year  remaining_lease_month  \\\n",
       "0    2.197225                    70                      0   \n",
       "\n",
       "   lease_commence_date  resale_price  \n",
       "0                 1986     12.449019  "
      ]
     },
     "execution_count": 82,
     "metadata": {},
     "output_type": "execute_result"
    }
   ],
   "source": [
    "df_final_5.head(1)"
   ]
  },
  {
   "cell_type": "code",
   "execution_count": 83,
   "metadata": {},
   "outputs": [
    {
     "data": {
      "text/plain": [
       "12.811156235475135"
      ]
     },
     "execution_count": 83,
     "metadata": {},
     "output_type": "execute_result"
    }
   ],
   "source": [
    "user_data = np.array([[2015,4,2,74,8,0,1.098612,68,0,1985]])\n",
    "y_pred_1 = model_1.predict(user_data)\n",
    "y_pred_1[0]"
   ]
  },
  {
   "cell_type": "code",
   "execution_count": 84,
   "metadata": {},
   "outputs": [
    {
     "data": {
      "text/plain": [
       "359332.7000997733"
      ]
     },
     "execution_count": 84,
     "metadata": {},
     "output_type": "execute_result"
    }
   ],
   "source": [
    "np.exp(12.792003979535888)"
   ]
  },
  {
   "cell_type": "code",
   "execution_count": 85,
   "metadata": {},
   "outputs": [],
   "source": [
    "import pickle\n",
    "import numpy as np"
   ]
  },
  {
   "cell_type": "code",
   "execution_count": 86,
   "metadata": {},
   "outputs": [],
   "source": [
    "with open(\"Resale_Flat_Prices_Model_1.pkl\",\"wb\") as f:\n",
    "  pickle.dump(model_1,f)"
   ]
  },
  {
   "cell_type": "code",
   "execution_count": 87,
   "metadata": {},
   "outputs": [],
   "source": [
    "with open(\"Resale_Flat_Prices_Model_1.pkl\",\"rb\") as f1:\n",
    "    regg_model= pickle.load(f1)     "
   ]
  },
  {
   "cell_type": "code",
   "execution_count": 88,
   "metadata": {},
   "outputs": [
    {
     "data": {
      "text/plain": [
       "12.250326954844592"
      ]
     },
     "execution_count": 88,
     "metadata": {},
     "output_type": "execute_result"
    }
   ],
   "source": [
    "user_data = np.array([[2015,8,5,4.955827,3,1.386294,1.791759,73,0,1990]])\n",
    "y_pred_1 = regg_model.predict(user_data)\n",
    "y_pred_1[0]     "
   ]
  },
  {
   "cell_type": "code",
   "execution_count": 89,
   "metadata": {},
   "outputs": [
    {
     "data": {
      "text/plain": [
       "213886.9116653966"
      ]
     },
     "execution_count": 89,
     "metadata": {},
     "output_type": "execute_result"
    }
   ],
   "source": [
    "np.exp(12.273202704163293) "
   ]
  }
 ],
 "metadata": {
  "kernelspec": {
   "display_name": "Python 3",
   "language": "python",
   "name": "python3"
  },
  "language_info": {
   "codemirror_mode": {
    "name": "ipython",
    "version": 3
   },
   "file_extension": ".py",
   "mimetype": "text/x-python",
   "name": "python",
   "nbconvert_exporter": "python",
   "pygments_lexer": "ipython3",
   "version": "3.12.2"
  }
 },
 "nbformat": 4,
 "nbformat_minor": 2
}
